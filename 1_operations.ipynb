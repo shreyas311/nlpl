{
  "nbformat": 4,
  "nbformat_minor": 0,
  "metadata": {
    "colab": {
      "provenance": []
    },
    "kernelspec": {
      "name": "python3",
      "display_name": "Python 3"
    },
    "language_info": {
      "name": "python"
    }
  },
  "cells": [
    {
      "cell_type": "code",
      "source": [
        "import spacy\n",
        "nlp = spacy.load(\"en_core_web_sm\")\n",
        "#take the input\n",
        "text = (\n",
        "    \"Gus is helping organize a developer\"\n",
        "    \" conference on Applications of Natural Language\"\n",
        "    \" Processing. He keeps organizing local Python meetups\"\n",
        "    \" and several internal talks at his workplace.\"\n",
        ")\n",
        "doc = nlp(text)\n",
        "for token in doc:\n",
        "    if str(token) != str(token.lemma_):\n",
        "        print(f\"{str(token):>20} : {str(token.lemma_)}\")\n",
        "\n",
        "\n",
        "\n",
        "#Part of Speech\n",
        "about_doc = nlp(text)\n",
        "for token in about_doc:\n",
        "    print(\n",
        "        f\"\"\"\n",
        "TOKEN: {str(token)}\n",
        "=====\n",
        "TAG: {str(token.tag_):10} POS: {token.pos_}\n",
        "EXPLANATION: {spacy.explain(token.tag_)}\"\"\"\n",
        "    )\n",
        "\n",
        "\n",
        "\n",
        "#Stopwords\n",
        "spacy_stopwords = spacy.lang.en.stop_words.STOP_WORDS\n",
        "len(spacy_stopwords)\n",
        "\n",
        "for stop_word in list(spacy_stopwords)[:10]:\n",
        "    print(stop_word)\n",
        "about_doc = nlp(text)\n",
        "print([token for token in about_doc if not token.is_stop])\n",
        "\n",
        "\n",
        "\n",
        "#Tokenzation\n",
        "about_doc = nlp(text)\n",
        "\n",
        "for token in about_doc:\n",
        "    print (token, token.idx)\n",
        "\n"
      ],
      "metadata": {
        "id": "qlLkfhnmXzP2"
      },
      "execution_count": null,
      "outputs": []
    },
    {
      "cell_type": "code",
      "execution_count": null,
      "metadata": {
        "colab": {
          "base_uri": "https://localhost:8080/"
        },
        "id": "9stGjZ7pVGi1",
        "outputId": "398818e4-7b86-4889-bb7a-e48b5e254683"
      },
      "outputs": [
        {
          "output_type": "stream",
          "name": "stdout",
          "text": [
            "                  is : be\n",
            "                  He : he\n",
            "               keeps : keep\n",
            "          organizing : organize\n",
            "             meetups : meetup\n",
            "               talks : talk\n"
          ]
        }
      ],
      "source": [
        "import spacy\n",
        "nlp = spacy.load(\"en_core_web_sm\")\n",
        "#take the input\n",
        "text = (\n",
        "    \"Gus is helping organize a developer\"\n",
        "    \" conference on Applications of Natural Language\"\n",
        "    \" Processing. He keeps organizing local Python meetups\"\n",
        "    \" and several internal talks at his workplace.\"\n",
        ")\n",
        "doc = nlp(text)\n",
        "for token in doc:\n",
        "    if str(token) != str(token.lemma_):\n",
        "        print(f\"{str(token):>20} : {str(token.lemma_)}\")\n"
      ]
    },
    {
      "cell_type": "code",
      "source": [
        "#Part of Speech\n",
        "about_doc = nlp(text)\n",
        "for token in about_doc:\n",
        "    print(\n",
        "        f\"\"\"\n",
        "TOKEN: {str(token)}\n",
        "=====\n",
        "TAG: {str(token.tag_):10} POS: {token.pos_}\n",
        "EXPLANATION: {spacy.explain(token.tag_)}\"\"\"\n",
        "    )"
      ],
      "metadata": {
        "colab": {
          "base_uri": "https://localhost:8080/"
        },
        "id": "lbXtARe0WMvV",
        "outputId": "6e4f6f0b-6fd6-4045-8514-8a3a9a77fccc"
      },
      "execution_count": null,
      "outputs": [
        {
          "output_type": "stream",
          "name": "stdout",
          "text": [
            "\n",
            "TOKEN: Gus\n",
            "=====\n",
            "TAG: NNP        POS: PROPN\n",
            "EXPLANATION: noun, proper singular\n",
            "\n",
            "TOKEN: is\n",
            "=====\n",
            "TAG: VBZ        POS: AUX\n",
            "EXPLANATION: verb, 3rd person singular present\n",
            "\n",
            "TOKEN: helping\n",
            "=====\n",
            "TAG: VBG        POS: AUX\n",
            "EXPLANATION: verb, gerund or present participle\n",
            "\n",
            "TOKEN: organize\n",
            "=====\n",
            "TAG: VB         POS: VERB\n",
            "EXPLANATION: verb, base form\n",
            "\n",
            "TOKEN: a\n",
            "=====\n",
            "TAG: DT         POS: DET\n",
            "EXPLANATION: determiner\n",
            "\n",
            "TOKEN: developer\n",
            "=====\n",
            "TAG: NN         POS: NOUN\n",
            "EXPLANATION: noun, singular or mass\n",
            "\n",
            "TOKEN: conference\n",
            "=====\n",
            "TAG: NN         POS: NOUN\n",
            "EXPLANATION: noun, singular or mass\n",
            "\n",
            "TOKEN: on\n",
            "=====\n",
            "TAG: IN         POS: ADP\n",
            "EXPLANATION: conjunction, subordinating or preposition\n",
            "\n",
            "TOKEN: Applications\n",
            "=====\n",
            "TAG: NNPS       POS: PROPN\n",
            "EXPLANATION: noun, proper plural\n",
            "\n",
            "TOKEN: of\n",
            "=====\n",
            "TAG: IN         POS: ADP\n",
            "EXPLANATION: conjunction, subordinating or preposition\n",
            "\n",
            "TOKEN: Natural\n",
            "=====\n",
            "TAG: NNP        POS: PROPN\n",
            "EXPLANATION: noun, proper singular\n",
            "\n",
            "TOKEN: Language\n",
            "=====\n",
            "TAG: NNP        POS: PROPN\n",
            "EXPLANATION: noun, proper singular\n",
            "\n",
            "TOKEN: Processing\n",
            "=====\n",
            "TAG: NNP        POS: PROPN\n",
            "EXPLANATION: noun, proper singular\n",
            "\n",
            "TOKEN: .\n",
            "=====\n",
            "TAG: .          POS: PUNCT\n",
            "EXPLANATION: punctuation mark, sentence closer\n",
            "\n",
            "TOKEN: He\n",
            "=====\n",
            "TAG: PRP        POS: PRON\n",
            "EXPLANATION: pronoun, personal\n",
            "\n",
            "TOKEN: keeps\n",
            "=====\n",
            "TAG: VBZ        POS: VERB\n",
            "EXPLANATION: verb, 3rd person singular present\n",
            "\n",
            "TOKEN: organizing\n",
            "=====\n",
            "TAG: VBG        POS: VERB\n",
            "EXPLANATION: verb, gerund or present participle\n",
            "\n",
            "TOKEN: local\n",
            "=====\n",
            "TAG: JJ         POS: ADJ\n",
            "EXPLANATION: adjective (English), other noun-modifier (Chinese)\n",
            "\n",
            "TOKEN: Python\n",
            "=====\n",
            "TAG: NNP        POS: PROPN\n",
            "EXPLANATION: noun, proper singular\n",
            "\n",
            "TOKEN: meetups\n",
            "=====\n",
            "TAG: NNS        POS: NOUN\n",
            "EXPLANATION: noun, plural\n",
            "\n",
            "TOKEN: and\n",
            "=====\n",
            "TAG: CC         POS: CCONJ\n",
            "EXPLANATION: conjunction, coordinating\n",
            "\n",
            "TOKEN: several\n",
            "=====\n",
            "TAG: JJ         POS: ADJ\n",
            "EXPLANATION: adjective (English), other noun-modifier (Chinese)\n",
            "\n",
            "TOKEN: internal\n",
            "=====\n",
            "TAG: JJ         POS: ADJ\n",
            "EXPLANATION: adjective (English), other noun-modifier (Chinese)\n",
            "\n",
            "TOKEN: talks\n",
            "=====\n",
            "TAG: NNS        POS: NOUN\n",
            "EXPLANATION: noun, plural\n",
            "\n",
            "TOKEN: at\n",
            "=====\n",
            "TAG: IN         POS: ADP\n",
            "EXPLANATION: conjunction, subordinating or preposition\n",
            "\n",
            "TOKEN: his\n",
            "=====\n",
            "TAG: PRP$       POS: PRON\n",
            "EXPLANATION: pronoun, possessive\n",
            "\n",
            "TOKEN: workplace\n",
            "=====\n",
            "TAG: NN         POS: NOUN\n",
            "EXPLANATION: noun, singular or mass\n",
            "\n",
            "TOKEN: .\n",
            "=====\n",
            "TAG: .          POS: PUNCT\n",
            "EXPLANATION: punctuation mark, sentence closer\n"
          ]
        }
      ]
    },
    {
      "cell_type": "code",
      "source": [
        "#Stopwords\n",
        "spacy_stopwords = spacy.lang.en.stop_words.STOP_WORDS\n",
        "len(spacy_stopwords)\n",
        "\n",
        "for stop_word in list(spacy_stopwords)[:10]:\n",
        "    print(stop_word)\n",
        "about_doc = nlp(text)\n",
        "print([token for token in about_doc if not token.is_stop])"
      ],
      "metadata": {
        "colab": {
          "base_uri": "https://localhost:8080/"
        },
        "id": "8KNdjbcQXRJH",
        "outputId": "cd2034a6-6218-4a4e-9270-16cc1f7227f6"
      },
      "execution_count": null,
      "outputs": [
        {
          "output_type": "stream",
          "name": "stdout",
          "text": [
            "whereas\n",
            "used\n",
            "become\n",
            "own\n",
            "became\n",
            "there\n",
            "though\n",
            "their\n",
            "’ve\n",
            "often\n",
            "[Gus, helping, organize, developer, conference, Applications, Natural, Language, Processing, ., keeps, organizing, local, Python, meetups, internal, talks, workplace, .]\n"
          ]
        }
      ]
    },
    {
      "cell_type": "code",
      "source": [
        "#Tokenzation\n",
        "about_doc = nlp(text)\n",
        "\n",
        "for token in about_doc:\n",
        "    print (token, token.idx)\n"
      ],
      "metadata": {
        "colab": {
          "base_uri": "https://localhost:8080/"
        },
        "id": "4gnqmI1VXuL2",
        "outputId": "2d939bfb-4669-48b7-ff78-5a2dfa7b06a5"
      },
      "execution_count": null,
      "outputs": [
        {
          "output_type": "stream",
          "name": "stdout",
          "text": [
            "Gus 0\n",
            "is 4\n",
            "helping 7\n",
            "organize 15\n",
            "a 24\n",
            "developer 26\n",
            "conference 36\n",
            "on 47\n",
            "Applications 50\n",
            "of 63\n",
            "Natural 66\n",
            "Language 74\n",
            "Processing 83\n",
            ". 93\n",
            "He 95\n",
            "keeps 98\n",
            "organizing 104\n",
            "local 115\n",
            "Python 121\n",
            "meetups 128\n",
            "and 136\n",
            "several 140\n",
            "internal 148\n",
            "talks 157\n",
            "at 163\n",
            "his 166\n",
            "workplace 170\n",
            ". 179\n"
          ]
        }
      ]
    }
  ]
}