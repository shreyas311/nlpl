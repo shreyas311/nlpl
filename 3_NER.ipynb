{
  "nbformat": 4,
  "nbformat_minor": 0,
  "metadata": {
    "colab": {
      "provenance": []
    },
    "kernelspec": {
      "name": "python3",
      "display_name": "Python 3"
    },
    "language_info": {
      "name": "python"
    }
  },
  "cells": [
    {
      "cell_type": "code",
      "execution_count": 1,
      "metadata": {
        "colab": {
          "base_uri": "https://localhost:8080/"
        },
        "id": "Qus2y1rg5vpJ",
        "outputId": "f6177664-ed55-4bbb-bff6-ab1f31a4389a"
      },
      "outputs": [
        {
          "output_type": "stream",
          "name": "stdout",
          "text": [
            "Techlandia GPE\n",
            "Emily Johnson PERSON\n",
            "the Quantum Expo FAC\n",
            "The Quantum Generator ORG\n",
            "the Quantum Generator ORG\n",
            "Mark Thompson PERSON\n",
            "FutureTech Inc. ORG\n",
            "Johnson PERSON\n",
            "Sarah Miller PERSON\n",
            "CodeGuard ORG\n",
            "the Quantum Generator's LAW\n",
            "the Binary Bandits LAW\n",
            "evening TIME\n",
            "Johnson PERSON\n",
            "Innovation Excellence Award ORG\n",
            "Jessica Rodriguez PERSON\n",
            "Alex Turner PERSON\n",
            "Johnson PERSON\n",
            "the Binary Bandits LAW\n",
            "Cipher PERSON\n",
            "FutureTech Inc. ORG\n",
            "the Quantum Generator's ORG\n",
            "Techlandia GPE\n"
          ]
        }
      ],
      "source": [
        "import spacy\n",
        "\n",
        "raw_text=(\"In the bustling city of Techlandia, Dr. Emily Johnson, a brilliant scientist, unveiled her latest invention at the Quantum Expo. The Quantum Generator, a revolutionary device, promises to transform the way we harness energy.\"\n",
        "\n",
        "\"As the crowd marveled at the Quantum Generator, Mark Thompson, the CEO of FutureTech Inc., approached Dr. Johnson with a partnership proposal. They discussed the potential applications of the technology in various industries, including renewable energy and telecommunications.\"\n",
        "\n",
        "\"Meanwhile, Agent Sarah Miller of the top-secret organization CodeGuard observed the proceedings discreetly. She had received intel about a possible attempt to steal the Quantum Generator's blueprints by a group of notorious hackers known as the Binary Bandits.\"\n",
        "\n",
        "\"During the evening gala, Dr. Johnson was awarded the prestigious Innovation Excellence Award by Mayor Jessica Rodriguez. The event was covered by the leading tech journalist, Alex Turner, who praised Dr. Johnson's contribution to scientific advancements.\"\n",
        "\n",
        "\"However, little did they know that the Binary Bandits were already plotting their next move. In the shadows, their leader, known as Cipher, devised a plan to infiltrate FutureTech Inc. and steal the Quantum Generator's secrets.\"\n",
        "\n",
        "\"As the night unfolded, the city of Techlandia became the stage for a high-stakes game of innovation, corporate intrigue, and espionage.\"\n",
        ")\n",
        "\n",
        "NER = spacy.load(\"en_core_web_sm\",disable=[\"tok2vec\", \"tagger\", \"parser\", \"attribute_ruler\", \"lemmatizer\"])\n",
        "\n",
        "text = NER(raw_text)\n",
        "\n",
        "for x in text.ents:\n",
        "    print(x.text,x.label_)"
      ]
    }
  ]
}