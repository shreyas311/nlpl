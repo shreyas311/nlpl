{
  "nbformat": 4,
  "nbformat_minor": 0,
  "metadata": {
    "colab": {
      "provenance": []
    },
    "kernelspec": {
      "name": "python3",
      "display_name": "Python 3"
    },
    "language_info": {
      "name": "python"
    }
  },
  "cells": [
    {
      "cell_type": "code",
      "source": [
        "from nltk import ngrams\n",
        "\n",
        "from nltk.util import ngrams\n",
        "\n",
        "# unigram model\n",
        "n = 1\n",
        "sentence = 'In natural language processing (NLP), a unigram model is a language model that assumes each token is independent of the tokens before it. '\n",
        "unigrams = ngrams(sentence.split(), n)\n",
        "\n",
        "for item in unigrams:\n",
        "    print(item)\n",
        "\n",
        "\n",
        "\n",
        "n = 2\n",
        "unigrams = ngrams(sentence.split(), n)\n",
        "\n",
        "for item in unigrams:\n",
        "    print(item)\n",
        "\n",
        "\n",
        "n = 3\n",
        "unigrams = ngrams(sentence.split(), n)\n",
        "\n",
        "for item in unigrams:\n",
        "    print(item)\n"
      ],
      "metadata": {
        "colab": {
          "base_uri": "https://localhost:8080/"
        },
        "id": "ccGJ_qgz9nIj",
        "outputId": "e94756e1-21df-4be4-9bc7-7649a64dec1f"
      },
      "execution_count": 8,
      "outputs": [
        {
          "output_type": "stream",
          "name": "stdout",
          "text": [
            "('In',)\n",
            "('natural',)\n",
            "('language',)\n",
            "('processing',)\n",
            "('(NLP),',)\n",
            "('a',)\n",
            "('unigram',)\n",
            "('model',)\n",
            "('is',)\n",
            "('a',)\n",
            "('language',)\n",
            "('model',)\n",
            "('that',)\n",
            "('assumes',)\n",
            "('each',)\n",
            "('token',)\n",
            "('is',)\n",
            "('independent',)\n",
            "('of',)\n",
            "('the',)\n",
            "('tokens',)\n",
            "('before',)\n",
            "('it.',)\n",
            "('In', 'natural')\n",
            "('natural', 'language')\n",
            "('language', 'processing')\n",
            "('processing', '(NLP),')\n",
            "('(NLP),', 'a')\n",
            "('a', 'unigram')\n",
            "('unigram', 'model')\n",
            "('model', 'is')\n",
            "('is', 'a')\n",
            "('a', 'language')\n",
            "('language', 'model')\n",
            "('model', 'that')\n",
            "('that', 'assumes')\n",
            "('assumes', 'each')\n",
            "('each', 'token')\n",
            "('token', 'is')\n",
            "('is', 'independent')\n",
            "('independent', 'of')\n",
            "('of', 'the')\n",
            "('the', 'tokens')\n",
            "('tokens', 'before')\n",
            "('before', 'it.')\n",
            "('In', 'natural', 'language')\n",
            "('natural', 'language', 'processing')\n",
            "('language', 'processing', '(NLP),')\n",
            "('processing', '(NLP),', 'a')\n",
            "('(NLP),', 'a', 'unigram')\n",
            "('a', 'unigram', 'model')\n",
            "('unigram', 'model', 'is')\n",
            "('model', 'is', 'a')\n",
            "('is', 'a', 'language')\n",
            "('a', 'language', 'model')\n",
            "('language', 'model', 'that')\n",
            "('model', 'that', 'assumes')\n",
            "('that', 'assumes', 'each')\n",
            "('assumes', 'each', 'token')\n",
            "('each', 'token', 'is')\n",
            "('token', 'is', 'independent')\n",
            "('is', 'independent', 'of')\n",
            "('independent', 'of', 'the')\n",
            "('of', 'the', 'tokens')\n",
            "('the', 'tokens', 'before')\n",
            "('tokens', 'before', 'it.')\n"
          ]
        }
      ]
    },
    {
      "cell_type": "code",
      "execution_count": 1,
      "metadata": {
        "colab": {
          "base_uri": "https://localhost:8080/"
        },
        "id": "-8obEa8e6x7V",
        "outputId": "b37de874-54c0-483e-b730-6de2c98ce939"
      },
      "outputs": [
        {
          "output_type": "stream",
          "name": "stdout",
          "text": [
            "('In',)\n",
            "('natural',)\n",
            "('language',)\n",
            "('processing',)\n",
            "('(NLP),',)\n",
            "('a',)\n",
            "('unigram',)\n",
            "('model',)\n",
            "('is',)\n",
            "('a',)\n",
            "('language',)\n",
            "('model',)\n",
            "('that',)\n",
            "('assumes',)\n",
            "('each',)\n",
            "('token',)\n",
            "('is',)\n",
            "('independent',)\n",
            "('of',)\n",
            "('the',)\n",
            "('tokens',)\n",
            "('before',)\n",
            "('it.',)\n"
          ]
        }
      ],
      "source": [
        "from nltk import ngrams\n",
        "\n",
        "from nltk.util import ngrams\n",
        "\n",
        "# unigram model\n",
        "n = 1\n",
        "sentence = 'In natural language processing (NLP), a unigram model is a language model that assumes each token is independent of the tokens before it. '\n",
        "unigrams = ngrams(sentence.split(), n)\n",
        "\n",
        "for item in unigrams:\n",
        "    print(item)"
      ]
    },
    {
      "cell_type": "code",
      "source": [
        "n = 2\n",
        "sentence = 'In natural language processing (NLP), a bigram is a two-word sequence.'\n",
        "unigrams = ngrams(sentence.split(), n)\n",
        "\n",
        "for item in unigrams:\n",
        "    print(item)"
      ],
      "metadata": {
        "colab": {
          "base_uri": "https://localhost:8080/"
        },
        "id": "H5dUD1Dr7AD_",
        "outputId": "0ef4e77b-e8eb-4faf-8fa0-71101807fe23"
      },
      "execution_count": 2,
      "outputs": [
        {
          "output_type": "stream",
          "name": "stdout",
          "text": [
            "('In', 'natural')\n",
            "('natural', 'language')\n",
            "('language', 'processing')\n",
            "('processing', '(NLP),')\n",
            "('(NLP),', 'a')\n",
            "('a', 'bigram')\n",
            "('bigram', 'is')\n",
            "('is', 'a')\n",
            "('a', 'two-word')\n",
            "('two-word', 'sequence.')\n"
          ]
        }
      ]
    },
    {
      "cell_type": "code",
      "source": [
        "n = 3\n",
        "sentence = 'A trigram model in Natural Language Processing (NLP) is a three-word sequence of words. '\n",
        "unigrams = ngrams(sentence.split(), n)\n",
        "\n",
        "for item in unigrams:\n",
        "    print(item)\n"
      ],
      "metadata": {
        "colab": {
          "base_uri": "https://localhost:8080/"
        },
        "id": "sBv7tj677AHV",
        "outputId": "11a3cd5f-8235-4375-fbc2-a9b2af6edf8c"
      },
      "execution_count": 3,
      "outputs": [
        {
          "output_type": "stream",
          "name": "stdout",
          "text": [
            "('A', 'trigram', 'model')\n",
            "('trigram', 'model', 'in')\n",
            "('model', 'in', 'Natural')\n",
            "('in', 'Natural', 'Language')\n",
            "('Natural', 'Language', 'Processing')\n",
            "('Language', 'Processing', '(NLP)')\n",
            "('Processing', '(NLP)', 'is')\n",
            "('(NLP)', 'is', 'a')\n",
            "('is', 'a', 'three-word')\n",
            "('a', 'three-word', 'sequence')\n",
            "('three-word', 'sequence', 'of')\n",
            "('sequence', 'of', 'words.')\n"
          ]
        }
      ]
    },
    {
      "cell_type": "code",
      "source": [],
      "metadata": {
        "id": "ZrYKgi7K9rnX"
      },
      "execution_count": null,
      "outputs": []
    }
  ]
}