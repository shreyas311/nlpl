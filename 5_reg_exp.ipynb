{
  "nbformat": 4,
  "nbformat_minor": 0,
  "metadata": {
    "colab": {
      "provenance": []
    },
    "kernelspec": {
      "name": "python3",
      "display_name": "Python 3"
    },
    "language_info": {
      "name": "python"
    }
  },
  "cells": [
    {
      "cell_type": "code",
      "execution_count": null,
      "metadata": {
        "id": "ChYswfoa6yTs"
      },
      "outputs": [],
      "source": [
        "import re\n",
        "\n",
        "def find_entities(text):\n",
        "\n",
        "    result = {\n",
        "        'URLs': re.findall(r'https?://\\S+|www\\.\\S+', text),\n",
        "        'IP Addresses': re.findall(r'\\b(?:\\d{1,3}\\.){3}\\d{1,3}\\b', text),\n",
        "        'Dates': re.findall(r'([1-9]|[12][0-9]|3[01])\\/(0[1-9]|1[1,2])\\/(19|20)\\d{2}', text),\n",
        "        'PAN Numbers': re.findall(r'[A-Z]{5}[0-9]{4}[A-Z]', text),\n",
        "    }\n",
        "    return result\n",
        "\n",
        "# Example usage:\n",
        "sample_text = \"\"\"\n",
        "First Dataset\n",
        "Visit our website at https://www.Twitter.com.\n",
        "For support, contact us at support@example.com.\n",
        "IP address: 192.168.2.3\n",
        "Date: 25/11/2023\n",
        "PAN number: DYXPA9175B\n",
        "\n",
        "Second Dataset\n",
        "Visit our website at https://www.instagram.com.\n",
        "For more info connect with  info@example.com.\n",
        "IP address: 192.148.4.5\n",
        "Date: 12/11/2023\n",
        "PAN number: AZYNB6252C\n",
        "\"\"\"\n",
        "\n",
        "result = find_entities(sample_text)\n",
        "\n",
        "for entity_type, entities in result.items():\n",
        "    print(f\"{entity_type}: {entities}\")\n"
      ]
    },
    {
      "cell_type": "code",
      "source": [],
      "metadata": {
        "id": "-4rcmh9L8wCr"
      },
      "execution_count": null,
      "outputs": []
    }
  ]
}