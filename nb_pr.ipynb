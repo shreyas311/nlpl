{
 "cells": [
  {
   "cell_type": "code",
   "execution_count": null,
   "id": "77d95721",
   "metadata": {},
   "outputs": [],
   "source": [
    "import pandas as pd \n",
    "import numpy as np \n",
    "data=pd.read_csv(r\"C:\\Users\\rkank\\OneDrive\\Documents\\Machine Learning 2022 B.Tech\\NLPMLLpr\\B1\\iris.csv\")\n",
    "#print(data)\n",
    "x=data.iloc[:,:-1].values\n",
    "#print(x)\n",
    "y=data.iloc[:,-1].values\n",
    "#print(y)\n",
    "#convert target variable values into numeric form\n",
    "from sklearn.preprocessing import LabelEncoder\n",
    "y=LabelEncoder().fit_transform(y)  \n",
    "#print(y) \n",
    "#split train and test data\n",
    "from sklearn.model_selection import train_test_split\n",
    "x_train,x_test,y_train,y_test=train_test_split(x,y,test_size=0.2,random_state=3)\n",
    "#print(x_train.shape)\n",
    "#print(x_test.shape)\n",
    "from sklearn.naive_bayes import GaussianNB\n",
    "model=GaussianNB()\n",
    "model.fit(x_train,y_train)\n",
    "y_predict=model.predict(x_test)\n",
    "print(\"actual values of dataset\",y_test)\n",
    "print(\"predicated values given by model\",y_predict)\n",
    "from sklearn.metrics import accuracy_score,confusion_matrix,f1_score\n",
    "accuracy=accuracy_score(y_test,y_predict)*100\n",
    "print(\"accurayc of Bayes Classifier is \",accuracy)\n",
    "cf=confusion_matrix(y_predict,y_test)\n",
    "print(cf)\n",
    "f1=f1_score(y_predict,y_test,average='weighted')\n",
    "print(\"f1 score is \",f1)\n"
   ]
  }
 ],
 "metadata": {
  "kernelspec": {
   "display_name": "Python 3 (ipykernel)",
   "language": "python",
   "name": "python3"
  },
  "language_info": {
   "codemirror_mode": {
    "name": "ipython",
    "version": 3
   },
   "file_extension": ".py",
   "mimetype": "text/x-python",
   "name": "python",
   "nbconvert_exporter": "python",
   "pygments_lexer": "ipython3",
   "version": "3.10.9"
  }
 },
 "nbformat": 4,
 "nbformat_minor": 5
}
