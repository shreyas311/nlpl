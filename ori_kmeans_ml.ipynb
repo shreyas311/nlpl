{
 "cells": [
  {
   "cell_type": "code",
   "execution_count": null,
   "id": "f479311c",
   "metadata": {},
   "outputs": [],
   "source": [
    "import numpy as nm\n",
    "import matplotlib.pyplot as mtp\n",
    "import pandas as pd\n",
    "\n",
    "data=pd.read_csv(\"Mall_Customers.csv\")\n",
    "print(data)\n",
    "\n",
    "x=data.iloc[:,[3,4]].values\n",
    "print(x)\n",
    "\n",
    "#Training the K-means algorithm on the training dataset\n",
    "from sklearn.cluster import KMeans\n",
    "k=KMeans(n_clusters=5, init='k-means++', random_state= 42)\n",
    "clusters=k.fit_predict(x)\n",
    "print(\"number of clusters are \\n\",clusters)\n",
    "\n",
    "#Visualizing the Clusters\n",
    "mtp.scatter(x[clusters==0,0],x[clusters==0,1],s=100,c='blue',label='Cluster 1')\n",
    "mtp.scatter(x[clusters==1,0],x[clusters==1,1],s=100,c='green',label='Cluster 2')\n",
    "mtp.scatter(x[clusters==2,0],x[clusters==2,1],s=100,c='red',label='Cluster 3')\n",
    "mtp.scatter(x[clusters==3,0],x[clusters==3,1],s=100,c='cyan',label='Cluster 4')\n",
    "mtp.scatter(x[clusters==4,0],x[clusters==4,1],s=100,c='magenta',label='Cluster 5')\n",
    "mtp.scatter(k.cluster_centers_[:, 0], k.cluster_centers_[:, 1], s = 300, c = 'yellow', label = 'Centroid')\n",
    "\n",
    "mtp.title('Clusters of customers')\n",
    "mtp.xlabel('Annual Income (k$)')\n",
    "mtp.ylabel('Spending Score (1-100)')\n",
    "mtp.legend()\n",
    "mtp.show()"
   ]
  }
 ],
 "metadata": {
  "kernelspec": {
   "display_name": "Python 3 (ipykernel)",
   "language": "python",
   "name": "python3"
  },
  "language_info": {
   "codemirror_mode": {
    "name": "ipython",
    "version": 3
   },
   "file_extension": ".py",
   "mimetype": "text/x-python",
   "name": "python",
   "nbconvert_exporter": "python",
   "pygments_lexer": "ipython3",
   "version": "3.10.9"
  }
 },
 "nbformat": 4,
 "nbformat_minor": 5
}
