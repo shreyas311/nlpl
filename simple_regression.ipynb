{
 "cells": [
  {
   "cell_type": "code",
   "execution_count": null,
   "id": "10d43045",
   "metadata": {},
   "outputs": [],
   "source": [
    "#Assignment based on simple linear regression on any dataset\n",
    "import pandas as pd\n",
    "import numpy as np\n",
    "import matplotlib.pyplot as plt\n",
    "data=pd.read_csv(\"houseprices.csv\")\n",
    "#print(data)\n",
    "x=data.iloc[0:100,1:2].values\n",
    "#print(x)\n",
    "y=data.iloc[0:100,:1].values\n",
    "#print(y)\n",
    "from sklearn.model_selection import train_test_split\n",
    "x_train,x_test,y_train,y_test=train_test_split(x,y,test_size=0.2,random_state=3)\n",
    "#print(x_train)\n",
    "#print(len(x_train))\n",
    "from sklearn.linear_model import LinearRegression\n",
    "reg=LinearRegression()\n",
    "reg.fit(x_train,y_train)\n",
    "predicted=reg.predict(x_test)\n",
    "print(\"intercept \\n\",reg.intercept_)\n",
    "print(\"slope or weight \\n\",reg.coef_)\n",
    "from sklearn.metrics import mean_squared_error\n",
    "print(\"mean squared error is: \\n\",mean_squared_error(y_test,predicted))\n",
    "print(\"predicted data by model \\n\",predicted)\n",
    "print(\"Actual data \\n\",y_test)\n",
    "plt.scatter(x_test,y_test)\n",
    "plt.xlabel(\"area\")\n",
    "plt.ylabel(\"price\")\n",
    "plt.title(\"houseprices using linear regression \\n\")\n",
    "plt.plot(x_test,predicted)\n",
    "plt.show()\n",
    "print(\"price: \\n\",reg.predict([[1802]]))"
   ]
  }
 ],
 "metadata": {
  "kernelspec": {
   "display_name": "Python 3 (ipykernel)",
   "language": "python",
   "name": "python3"
  },
  "language_info": {
   "codemirror_mode": {
    "name": "ipython",
    "version": 3
   },
   "file_extension": ".py",
   "mimetype": "text/x-python",
   "name": "python",
   "nbconvert_exporter": "python",
   "pygments_lexer": "ipython3",
   "version": "3.10.9"
  }
 },
 "nbformat": 4,
 "nbformat_minor": 5
}
